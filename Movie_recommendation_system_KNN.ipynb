{
 "cells": [
  {
   "attachments": {},
   "cell_type": "markdown",
   "metadata": {},
   "source": [
    "# Movie Recommendations\n",
    "## -----------------------------------------------------------------------------------------------------\n",
    "In this project I build a movie reccommendation system. The algorithim used to construct the movie recommendation system is the K-Nearest Neighbours (K-NN) classification algorithm, which essentially looks to make predictions based on closest data points. \n",
    "\n",
    "The algorithm works by calculating the distance between each data point and by doing so determining the nearest neighbour(s) for each point/sample. There are many distance measurers used in calculating the distance, some of the most common include: Euclidean, Manhattan, Minkowski, Hamming and Cosine distances as were studied by Chomboon et al (2015). For our model we implement the Canberra distance as our distance measure this is justified later."
   ]
  },
  {
   "cell_type": "markdown",
   "metadata": {},
   "source": [
    "## Preprocessing\n",
    "### Aggregating movie ratings\n",
    " 1st we seek to parse the data files and identify the highest rated film in each genre. In order to do this we must somehow aggregate the movie ratings per movie provided by different individual users. For our aggregation function we implement/take inspiration from IMDb's formula:\n",
    " \n",
    "$$ Weighted Rating = \\frac{Rv+Cm}{v+m} $$\n",
    "\n",
    "$R =$ average rating for the movie (mean)  \n",
    "$v =$ number of votes/ratings for the movie  \n",
    "$m =$ threshold/minimum vote no. (this is to prevent assigning movies with 1 rating of 5 a total score of 5/5).  \n",
    "$c =$ the mean rating across the whole data set\n"
   ]
  },
  {
   "cell_type": "code",
   "execution_count": 2,
   "metadata": {},
   "outputs": [],
   "source": [
    "import pandas as pd\n",
    "import numpy as np\n",
    "\n",
    "u_data = pd.read_csv('ml-100k/u.data', sep='\\t', header = None, names = ['user_id', 'item_id', 'rating','timestamp'])\n",
    "\n",
    "u_genre = pd.read_csv('ml-100k/u.genre', sep='|', header = None, names =['genre', 'genre_idx'])\n",
    "\n",
    "u_info = pd.read_csv('ml-100k/u.info', header = None, sep=' ')\n",
    "u_info = u_info.set_index(1).T\n",
    "\n",
    "u_item = pd.read_csv('ml-100k/u.item', sep='|', encoding='Latin_1', header = None, names=['movie id', \n",
    "'movie title', 'release date', 'video release date', 'IMDb URL', 'unknown', 'Action', 'Adventure', \n",
    "'Animation', 'Childrens', 'Comedy', 'Crime', 'Documentary', 'Drama', 'Fantasy', 'Film-Noir', 'Horror', 'Musical', \n",
    "'Mystery','Romance','Sci-Fi','Thriller', 'War', 'Western'])\n",
    "\n"
   ]
  },
  {
   "cell_type": "code",
   "execution_count": 3,
   "metadata": {},
   "outputs": [],
   "source": [
    "x = u_data['user_id'].max()\n",
    "y = u_data['item_id'].max()"
   ]
  },
  {
   "cell_type": "code",
   "execution_count": 4,
   "metadata": {},
   "outputs": [],
   "source": [
    "rat_mov = np.zeros((y,x))"
   ]
  },
  {
   "cell_type": "code",
   "execution_count": 5,
   "metadata": {},
   "outputs": [],
   "source": [
    "vec1 = u_data['item_id'].values\n",
    "vec2 = u_data['user_id'].values\n",
    "vec3 = u_data['rating'].values"
   ]
  },
  {
   "cell_type": "code",
   "execution_count": 6,
   "metadata": {},
   "outputs": [],
   "source": [
    "vec1 -= 1\n",
    "vec2 -= 1\n",
    "rat_mov[vec1,vec2] = vec3"
   ]
  },
  {
   "cell_type": "code",
   "execution_count": 7,
   "metadata": {},
   "outputs": [],
   "source": [
    "#Average Rating per movie:\n",
    "sum_of_rat = np.sum(rat_mov, axis=1)\n",
    "denominator = np.sum(rat_mov > 0 ,axis=1)\n",
    "avg_rat = sum_of_rat/denominator"
   ]
  },
  {
   "cell_type": "code",
   "execution_count": 8,
   "metadata": {},
   "outputs": [
    {
     "data": {
      "text/plain": [
       "(1682, 943)"
      ]
     },
     "execution_count": 8,
     "metadata": {},
     "output_type": "execute_result"
    }
   ],
   "source": [
    "rat_mov.shape"
   ]
  },
  {
   "cell_type": "code",
   "execution_count": 9,
   "metadata": {},
   "outputs": [
    {
     "data": {
      "text/plain": [
       "array([ 1.,  6., 27., 80.])"
      ]
     },
     "execution_count": 9,
     "metadata": {},
     "output_type": "execute_result"
    }
   ],
   "source": [
    "quartile_votes = np.percentile(denominator, range(0, 100, 25), interpolation = 'midpoint')\n",
    "quartile_votes"
   ]
  },
  {
   "cell_type": "code",
   "execution_count": 10,
   "metadata": {},
   "outputs": [],
   "source": [
    "#Rating per movie inspired by IMDB formula\n",
    "#The ratio's accounts for the views \n",
    "#avg_rat = average rating for the movie (mean) \n",
    "#v = number of votes/ratings for the movie \n",
    "#m = a threshold/minimum vote no. (this is to protect against assigning movies with 1 rating of 5 a total\n",
    "#score of 5/5)\n",
    "#c = the mean rating across the whole data set\n",
    "\n",
    "c = np.mean(rat_mov[rat_mov>0])\n",
    "v = np.sum(rat_mov > 0 ,axis=1)\n",
    "m = quartile_votes[1]\n",
    "\n",
    "rating =(v/(v+m)) * avg_rat + (m/(v+m)) * c"
   ]
  },
  {
   "cell_type": "code",
   "execution_count": 11,
   "metadata": {},
   "outputs": [],
   "source": [
    "#Top rated movies in each genre\n",
    "genres = u_item[u_item.columns[5:]].values.astype(float)\n",
    "row, col = np.where(genres>0)\n",
    "genres[row, col] = rating[row]"
   ]
  },
  {
   "cell_type": "code",
   "execution_count": 12,
   "metadata": {},
   "outputs": [],
   "source": [
    "# for i, (genre, loc) in enumerate(zip(list_of_genres, genres.argmax(0))):\n",
    "#     movie = u_item['movie title'].values[loc]\n",
    "#     print(f'{genre:11s} : {movie}')"
   ]
  },
  {
   "cell_type": "code",
   "execution_count": 13,
   "metadata": {},
   "outputs": [],
   "source": [
    "#genres.argmax(0)\n",
    "top_rated = []\n",
    "for i in range(len(genres[0,:])):\n",
    "    top_rated.append(np.where(genres[:,i] == genres[:,i].max()))"
   ]
  },
  {
   "cell_type": "code",
   "execution_count": 14,
   "metadata": {},
   "outputs": [],
   "source": [
    "list_of_genres = u_item.columns[5:]\n",
    "Top_g = dict((g,0) for g in list_of_genres)\n",
    "k = list(Top_g.keys())\n",
    "for i in range(len(top_rated)):\n",
    "    for j in np.unique(top_rated[i][0]):\n",
    "        mov = u_item[u_item['movie id']==(j+1)].values.astype(str)\n",
    "        Top_g[k[i]] = (mov[0][1])"
   ]
  },
  {
   "cell_type": "code",
   "execution_count": 15,
   "metadata": {},
   "outputs": [
    {
     "name": "stdout",
     "output_type": "stream",
     "text": [
      "unknown     : unknown\n",
      "Action      : Star Wars (1977)\n",
      "Adventure   : Star Wars (1977)\n",
      "Animation   : Close Shave, A (1995)\n",
      "Childrens   : Wizard of Oz, The (1939)\n",
      "Comedy      : Close Shave, A (1995)\n",
      "Crime       : Usual Suspects, The (1995)\n",
      "Documentary : Hoop Dreams (1994)\n",
      "Drama       : Schindler's List (1993)\n",
      "Fantasy     : Star Kid (1997)\n",
      "Film-Noir   : Manchurian Candidate, The (1962)\n",
      "Horror      : Psycho (1960)\n",
      "Musical     : Wizard of Oz, The (1939)\n",
      "Mystery     : Rear Window (1954)\n",
      "Romance     : Casablanca (1942)\n",
      "Sci-Fi      : Star Wars (1977)\n",
      "Thriller    : Close Shave, A (1995)\n",
      "War         : Schindler's List (1993)\n",
      "Western     : High Noon (1952)\n"
     ]
    }
   ],
   "source": [
    "for i in Top_g.keys():\n",
    "    print(f'{i:11s} : {Top_g[i]}')"
   ]
  },
  {
   "cell_type": "markdown",
   "metadata": {},
   "source": [
    "-"
   ]
  },
  {
   "attachments": {},
   "cell_type": "markdown",
   "metadata": {},
   "source": [
    "## K-NN model\n",
    "\n",
    "In the code for this task, the scikit-learn library’s functions, `NearestNeighbors()` and `.kneighbours()`, are used to fit the training data and compute the neighbours and distance matrix. According to scikit-learn.org (2019) `sklearn.neighbors.DistanceMetric` the distance metrics intended for ‘integer-valued’ and  ‘real-valued vector spaces’ are the Hamming, Cranberra and BrayCurtis distances. Given that the data we are working with, movie ratings, has an integer-value space of 1-5 (and 0 where there are no ratings), it is most appropriate to implement one of the aforementioned distance metrics. After having tested all three distance metrics when fitting the nearest neighbours we find that when using the Cranberra distance metric (with k = 9)  we achieve the lowest out of sample Mean Absolute Error (MAE) of 0.78198.\n",
    "\n",
    "The Canberra distance between vectors a and b, as stated by Surya, V. B et al (2019), is a weighted version of the Manhattan distance and is calculated as follows:\n",
    "\n",
    "$$ CanberraDistance(a,b) = \\sum \\limits_{i=1}^{n} \\frac{\\mid{a_{i}-b_{i}\\mid}}{\\mid{a_i}\\mid+\\mid{b_i}\\mid}$$\n",
    "\n",
    "It is the absolute difference of the values of vector a and b divided by the individual absolutes of the values of vector a and b summed."
   ]
  },
  {
   "cell_type": "code",
   "execution_count": 16,
   "metadata": {},
   "outputs": [],
   "source": [
    "from sklearn.neighbors import NearestNeighbors"
   ]
  },
  {
   "cell_type": "code",
   "execution_count": 17,
   "metadata": {},
   "outputs": [],
   "source": [
    "u_train1 = pd.read_csv('ml-100k/u1.base', sep='\\t', header = None, names = ['user_id', 'item_id', 'rating','timestamp'])\n",
    "u_train2 = pd.read_csv('ml-100k/u2.base', sep='\\t', header = None, names = ['user_id', 'item_id', 'rating','timestamp'])\n",
    "u_train3 = pd.read_csv('ml-100k/u3.base', sep='\\t', header = None, names = ['user_id', 'item_id', 'rating','timestamp'])\n",
    "u_train4 = pd.read_csv('ml-100k/u4.base', sep='\\t', header = None, names = ['user_id', 'item_id', 'rating','timestamp'])\n",
    "u_train5 = pd.read_csv('ml-100k/u5.base', sep='\\t', header = None, names = ['user_id', 'item_id', 'rating','timestamp'])"
   ]
  },
  {
   "cell_type": "code",
   "execution_count": 18,
   "metadata": {},
   "outputs": [],
   "source": [
    "trains = [u_train1, u_train2, u_train3, u_train4, u_train5]"
   ]
  },
  {
   "cell_type": "code",
   "execution_count": 19,
   "metadata": {},
   "outputs": [],
   "source": [
    "u_test1 = pd.read_csv('ml-100k/u1.test', sep='\\t', header = None, names = ['user_id', 'item_id', 'rating','timestamp'])\n",
    "u_test2 = pd.read_csv('ml-100k/u2.test', sep='\\t', header = None, names = ['user_id', 'item_id', 'rating','timestamp'])\n",
    "u_test3 = pd.read_csv('ml-100k/u3.test', sep='\\t', header = None, names = ['user_id', 'item_id', 'rating','timestamp'])\n",
    "u_test4 = pd.read_csv('ml-100k/u4.test', sep='\\t', header = None, names = ['user_id', 'item_id', 'rating','timestamp'])\n",
    "u_test5 = pd.read_csv('ml-100k/u5.test', sep='\\t', header = None, names = ['user_id', 'item_id', 'rating','timestamp'])"
   ]
  },
  {
   "cell_type": "code",
   "execution_count": 20,
   "metadata": {},
   "outputs": [],
   "source": [
    "tests = [u_test1, u_test2, u_test3, u_test4, u_test5]"
   ]
  },
  {
   "cell_type": "code",
   "execution_count": 27,
   "metadata": {},
   "outputs": [
    {
     "name": "stdout",
     "output_type": "stream",
     "text": [
      "(1, 0.7859400000000001, [0.80295, 0.78615, 0.77965, 0.77835, 0.7826])\n",
      "(2, 0.78467, [0.8015, 0.78505, 0.77795, 0.77685, 0.782])\n",
      "(3, 0.7834, [0.80065, 0.78295, 0.7766, 0.7777, 0.7791])\n",
      "(4, 0.7829699999999999, [0.8006, 0.7813, 0.77635, 0.7772, 0.7794])\n",
      "(5, 0.78303, [0.80055, 0.78305, 0.7757, 0.77685, 0.779])\n",
      "(6, 0.78257, [0.80035, 0.78155, 0.7757, 0.77635, 0.7789])\n",
      "(7, 0.7820799999999999, [0.7991, 0.78075, 0.7756, 0.77655, 0.7784])\n",
      "(8, 0.7821499999999999, [0.7977, 0.781, 0.7766, 0.7768, 0.77865])\n",
      "(9, 0.7819800000000001, [0.79735, 0.7811, 0.7758, 0.7769, 0.77875])\n"
     ]
    }
   ],
   "source": [
    "E_forplot = []\n",
    "K_forplot = []\n",
    "MAE_vec = np.zeros((9)) #This must be the length of the range/loop for neighbors\n",
    "#This loop would usually run from 1 to 100 however for time sake of examiner loop will only run to optimal K.\n",
    "#Also must loop from 1 otherwise there will be indexing issues when adding MAE to numpy array\n",
    "for neighbors in range(1,10): \n",
    "    MAEs = []\n",
    "    #Cross Validation\n",
    "    for i in range(len(trains)):\n",
    "\n",
    "        #Create pivot table out of the pandas dataframe\n",
    "        train = trains[i].pivot(*trains[i].columns[:-1])\n",
    "        #Save the respective movieids so that can reindex correctly later\n",
    "        re_index = train.columns\n",
    "\n",
    "        #Fill the Nans with zeros to then be filled with averages\n",
    "        train_ = train.fillna(0)\n",
    "        train_ = train_.values\n",
    "\n",
    "        #Calculate the average rating per movie\n",
    "        #sum the ratings\n",
    "        train_sum_of_rat = np.sum(train_, axis=0)\n",
    "        #count of the ratings\n",
    "        train_denominator = np.sum(train_ > 0 ,axis=0)\n",
    "        #Avg rating per movie\n",
    "        train_avg_rat = train_sum_of_rat/train_denominator\n",
    "\n",
    "        #Quartiles of the count of votes per movie\n",
    "        quartile_votes = np.percentile(train_denominator, range(0, 100, 25), interpolation = 'midpoint')\n",
    "\n",
    "        #Implement bespoke formula for rating per movie\n",
    "        c_ = np.mean(train_[train_>0])\n",
    "        v_ = np.sum(train_ > 0 ,axis=0)\n",
    "        m_ = quartile_votes[1]\n",
    "\n",
    "        rating_train =(v_/(v_+m_)) * train_avg_rat + (m_/(v_+m_)) * c_\n",
    "\n",
    "        #Find col/row of zeros i.e. where needs to be filled with ratings\n",
    "        t_row, t_col = np.where(train_ == 0)\n",
    "        t_row\n",
    "\n",
    "        #Creat copy for nearest neighbor fitting and fill with movie ratings calculated\n",
    "        train_fit = train_.copy()\n",
    "        train_fit[t_row,t_col] = rating_train[t_col]\n",
    "\n",
    "        #Fit training data\n",
    "        n = NearestNeighbors(neighbors, metric = 'canberra')\n",
    "        n.fit(train_fit)\n",
    "\n",
    "        #split into distance and user/neighbour matrix \n",
    "        dist, user = n.kneighbors()\n",
    "\n",
    "\n",
    "        #calculate weightings\n",
    "        denom = np.sum((1/dist), axis=1)\n",
    "        weighting = (1/dist)/denom[:,None]\n",
    "        if (dist==0).any():\n",
    "            print('error')\n",
    "\n",
    "        #Creat 3 dimensional Matrix with ratings and users/neighbours\n",
    "        three_d = train_fit[user]\n",
    "\n",
    "        #Using einsum multiply out users, ratings and weightings\n",
    "        #Whilst collapsing on weightings\n",
    "        reccomendations = np.einsum('ukr, uk -> ur', three_d, weighting)\n",
    "\n",
    "        #prep test data:\n",
    "        test = tests[i].pivot(*tests[i].columns[:-1])\n",
    "\n",
    "        #Save the respective movieids so that can reindex correctly later\n",
    "        re_index_test = test.columns\n",
    "\n",
    "        #Save userids so that can reindex later to correct user\n",
    "        test.index\n",
    "\n",
    "        #fill Nans with 0s\n",
    "        test_ = test.fillna(0)\n",
    "        test_ = test_.values\n",
    "\n",
    "        #Round reccomendations\n",
    "        recs_r = np.around(reccomendations, 1)\n",
    "\n",
    "        #Calculate errors\n",
    "        predictions = pd.DataFrame(reccomendations, np.arange(943) + 1, re_index)\n",
    "        p = []\n",
    "\n",
    "        for usr, itm, _, _ in tests[i].values:\n",
    "            try:\n",
    "                p.append(round(predictions.loc[usr, itm]))\n",
    "            except:\n",
    "                p.append(3) #Here we fill movies that both users havent seen with a niave value\n",
    "\n",
    "        MAE = np.mean(np.fabs(tests[i]['rating'] - p))\n",
    "\n",
    "        MAEs.append(MAE)\n",
    "\n",
    "    print((neighbors, np.mean(MAEs), MAEs))\n",
    "    MAE_vec[neighbors-1]= np.mean(MAEs)\n",
    "    E_forplot.append(np.mean(MAEs))\n",
    "    K_forplot.append(neighbors)"
   ]
  },
  {
   "cell_type": "code",
   "execution_count": 39,
   "metadata": {},
   "outputs": [
    {
     "data": {
      "image/png": "[encoded data removed]",
      "text/plain": [
       "<Figure size 864x432 with 1 Axes>"
      ]
     },
     "metadata": {
      "needs_background": "light"
     },
     "output_type": "display_data"
    }
   ],
   "source": [
    "%matplotlib inline\n",
    "import matplotlib.pyplot as plt\n",
    "plt.figure(figsize=(12,6))\n",
    "plt.plot(K_forplot, E_forplot)\n",
    "plt.ylabel('MAE')\n",
    "plt.xlabel('Neighbours')\n",
    "plt.xlim(0,100)\n",
    "plt.title('MAE 5 fold Cross Validation')\n",
    "#plt.show()\n",
    "#plt.savefig('MAE_Cross_Validation.png', transparent=False)"
   ]
  },
  {
   "cell_type": "code",
   "execution_count": 40,
   "metadata": {},
   "outputs": [
    {
     "data": {
      "text/plain": [
       "(9, 0.7819800000000001)"
      ]
     },
     "execution_count": 40,
     "metadata": {},
     "output_type": "execute_result"
    }
   ],
   "source": [
    "#Minimizing neighbours:\n",
    "Best_Neighbors_Score = (np.argmin(MAE_vec)+1,E_forplot[np.argmin(MAE_vec)])\n",
    "Best_Neighbors_Score"
   ]
  },
  {
   "cell_type": "markdown",
   "metadata": {},
   "source": [
    "### Task3\n",
    "Extend your code from Task 2 to include the user details from u.user as part of the matching process. What if any difference does this make to the results? You will need to think carefully about how you convert the fields in u.user into suitable parameters.\n"
   ]
  },
  {
   "cell_type": "code",
   "execution_count": 29,
   "metadata": {},
   "outputs": [],
   "source": [
    "u_user = pd.read_csv('ml-100k/u.user', sep='|', header = None, names = ['user id', 'age', 'gender', 'occupation', 'zipcode'])"
   ]
  },
  {
   "cell_type": "code",
   "execution_count": 30,
   "metadata": {},
   "outputs": [],
   "source": [
    "occ = pd.get_dummies(u_user['occupation'])\n",
    "occ_d = occ.values\n",
    "occus_n = occ_d.shape\n",
    "age = u_user['age'].values"
   ]
  },
  {
   "cell_type": "code",
   "execution_count": 31,
   "metadata": {},
   "outputs": [
    {
     "data": {
      "text/plain": [
       "21"
      ]
     },
     "execution_count": 31,
     "metadata": {},
     "output_type": "execute_result"
    }
   ],
   "source": [
    "gend = u_user['gender'].values\n",
    "g_b = (gend == 'F')\n",
    "u_user.index\n",
    "occ = u_user['occupation'].values\n",
    "np.unique(occ)\n",
    "occus_n[1]"
   ]
  },
  {
   "cell_type": "code",
   "execution_count": 32,
   "metadata": {},
   "outputs": [
    {
     "name": "stdout",
     "output_type": "stream",
     "text": [
      "1 0.7857 [0.8008, 0.78725, 0.7798, 0.77915, 0.7815]\n",
      "2 0.78452 [0.79955, 0.7839, 0.77775, 0.779, 0.7824]\n",
      "3 0.78402 [0.79965, 0.7826, 0.77775, 0.77945, 0.78065]\n",
      "4 0.78352 [0.79845, 0.783, 0.77705, 0.77825, 0.78085]\n",
      "5 0.78344 [0.79745, 0.784, 0.7769, 0.7775, 0.78135]\n",
      "6 0.7828899999999999 [0.7971, 0.7824, 0.77785, 0.77735, 0.77975]\n",
      "7 0.78208 [0.79595, 0.78155, 0.7767, 0.77665, 0.77955]\n",
      "8 0.7819999999999999 [0.79515, 0.78155, 0.7766, 0.77715, 0.77955]\n",
      "9 0.78189 [0.7952, 0.78165, 0.7761, 0.77705, 0.77945]\n"
     ]
    }
   ],
   "source": [
    "#Including gender dummy\n",
    "MAE_vec_g = np.zeros((9)) #This must be the length of the range/loop for neighbors\n",
    "#This loop would usually run from 1 to 100 however for time sake of examiner loop will only run to K=9.\n",
    "#Also must loop from 1 otherwise there will be indexing issues when adding MAE to numpy array\n",
    "for nhbrs in range(1,10):\n",
    "    MAE3s = []\n",
    "    for i in range(len(trains)):    \n",
    "        train_t3 = trains[i].pivot(*trains[i].columns[:-1])\n",
    "        tt = train_t3.fillna(0).values\n",
    "\n",
    "        re_index = train_t3.columns\n",
    "\n",
    "        width = tt.shape\n",
    "\n",
    "        t_matrix = np.zeros((943,1+width[1]))\n",
    "\n",
    "        #Calculate the average rating per movie\n",
    "        #sum the ratings\n",
    "        t3_sum_of_rat = np.sum(tt, axis=0)\n",
    "        #count of the ratings\n",
    "        t3_denominator = np.sum(tt > 0 ,axis=0)\n",
    "        #Avg rating per movie\n",
    "        t3_avg_rat = t3_sum_of_rat/t3_denominator\n",
    "\n",
    "        #Quartiles of the count of votes per movie\n",
    "        quartile_votes = np.percentile(t3_denominator, range(0, 100, 25), interpolation = 'midpoint')\n",
    "\n",
    "        #Implement bespoke formula for rating per movie\n",
    "        c_ = np.mean(tt[tt>0])\n",
    "        v_ = np.sum(tt > 0 ,axis=0)\n",
    "        m_ = quartile_votes[0]\n",
    "\n",
    "        rating_train =(v_/(v_+m_)) * t3_avg_rat + (m_/(v_+m_)) * c_\n",
    "\n",
    "        #Find col/row of zeros i.e. where needs to be filled with ratings\n",
    "        ro, co = np.where(tt == 0)\n",
    "        ro\n",
    "\n",
    "        #Creat copy for nearest neighbor fitting and fill with movie ratings calculated\n",
    "        t3_fit = tt.copy()\n",
    "        t3_fit[ro,co] = rating_train[co]\n",
    "\n",
    "        t_matrix[:,1:]= t3_fit\n",
    "\n",
    "        t_matrix[:,0]= g_b\n",
    "\n",
    "\n",
    "        n = NearestNeighbors(nhbrs, metric = 'canberra')\n",
    "        n.fit(t_matrix)\n",
    "        dist3, user3 = n.kneighbors()\n",
    "\n",
    "        denom3 = np.sum((1/dist3), axis=1)\n",
    "        w3 = (1/dist3)/denom3[:,None]\n",
    "\n",
    "        #Creat 3 dimensional Matrix with ratings and users/neighbours\n",
    "        three_d_3 = t_matrix[:,1:][user3]\n",
    "\n",
    "        #Using einsum multiply out users, ratings and weightings\n",
    "        #Whilts collapsing on weightings\n",
    "        reccomend3 = np.einsum('abc, ab -> ac', three_d_3, w3)\n",
    "\n",
    "        test = tests[i].pivot(*tests[i].columns[:-1])\n",
    "\n",
    "        #Save the respective movieids so that can reindex correctly later\n",
    "        re_index_test = test.columns\n",
    "\n",
    "        #Save userids so that can reindex later to correct user\n",
    "        test.index\n",
    "\n",
    "        #fill Nans with 0s\n",
    "        test_ = test.fillna(0)\n",
    "        test_ = test_.values\n",
    "\n",
    "        #Round reccomendations\n",
    "        recs_r = np.around(reccomend3, 1)\n",
    "\n",
    "        #Calculate errors\n",
    "        predictions = pd.DataFrame(reccomend3, np.arange(943) + 1, re_index)\n",
    "        p = []\n",
    "\n",
    "        for usr, itm, _, _ in tests[i].values:\n",
    "            try:\n",
    "                p.append(np.around(predictions.loc[usr, itm]))\n",
    "            except:\n",
    "                p.append(3)\n",
    "\n",
    "        MAE3 = np.mean(np.fabs(tests[i]['rating'] - p))\n",
    "        MAE3s.append(MAE3)\n",
    "        MAE_vec_g[nhbrs-1]= np.mean(MAE3s)\n",
    "    print(nhbrs, np.mean(MAE3s), MAE3s)\n",
    "    "
   ]
  },
  {
   "cell_type": "code",
   "execution_count": 44,
   "metadata": {},
   "outputs": [
    {
     "data": {
      "text/plain": [
       "(82, 0.78171)"
      ]
     },
     "execution_count": 44,
     "metadata": {},
     "output_type": "execute_result"
    }
   ],
   "source": [
    "#Minimizing neighbours:\n",
    "Best_Neighbors_Score_g = (np.argmin(MAE_vec_g)+1,MAE_vec_g[np.argmin(MAE_vec_g)])\n",
    "Best_Neighbors_Score_g"
   ]
  },
  {
   "cell_type": "code",
   "execution_count": 33,
   "metadata": {},
   "outputs": [
    {
     "name": "stdout",
     "output_type": "stream",
     "text": [
      "1 0.7876700000000001 [0.80165, 0.78735, 0.7807, 0.78155, 0.7871]\n",
      "2 0.78602 [0.80025, 0.78595, 0.7791, 0.77945, 0.78535]\n",
      "3 0.78399 [0.79775, 0.78375, 0.7783, 0.7785, 0.78165]\n",
      "4 0.7837800000000001 [0.79755, 0.7834, 0.7779, 0.7791, 0.78095]\n",
      "5 0.7832399999999999 [0.7968, 0.78325, 0.77685, 0.7787, 0.7806]\n",
      "6 0.7827400000000001 [0.796, 0.78265, 0.77645, 0.7781, 0.7805]\n",
      "7 0.78281 [0.7967, 0.7821, 0.77595, 0.77745, 0.78185]\n",
      "8 0.78266 [0.79705, 0.78145, 0.77495, 0.7784, 0.78145]\n",
      "9 0.78257 [0.7966, 0.78105, 0.77545, 0.77825, 0.7815]\n"
     ]
    }
   ],
   "source": [
    "#Including gender and occupation dummy\n",
    "MAE_vec_g_oc = np.zeros((9))#This must be the length of the range/loop for neighbors\n",
    "#This loop would usually run from 1 to 100 however for time sake of examiner loop will only run to K=9.\n",
    "#Also must loop from 1 otherwise there will be indexing issues when adding MAE to numpy array\n",
    "for nhbrs in range(1,10):\n",
    "    MAE3s = []\n",
    "    for i in range(len(trains)):    \n",
    "        train_t3 = trains[i].pivot(*trains[i].columns[:-1])\n",
    "        tt = train_t3.fillna(0).values\n",
    "\n",
    "        re_index = train_t3.columns\n",
    "\n",
    "        width = tt.shape\n",
    "\n",
    "        t_matrix = np.zeros((943,1+occus_n[1]+width[1]))\n",
    "\n",
    "        #Calculate the average rating per movie\n",
    "        #sum the ratings\n",
    "        t3_sum_of_rat = np.sum(tt, axis=0)\n",
    "        #count of the ratings\n",
    "        t3_denominator = np.sum(tt > 0 ,axis=0)\n",
    "        #Avg rating per movie\n",
    "        t3_avg_rat = t3_sum_of_rat/t3_denominator\n",
    "\n",
    "        #Quartiles of the count of votes per movie\n",
    "        quartile_votes = np.percentile(t3_denominator, range(0, 100, 25), interpolation = 'midpoint')\n",
    "\n",
    "        #Implement bespoke formula for rating per movie\n",
    "        c_ = np.mean(tt[tt>0])\n",
    "        v_ = np.sum(tt > 0 ,axis=0)\n",
    "        m_ = quartile_votes[0]\n",
    "\n",
    "        rating_train =(v_/(v_+m_)) * t3_avg_rat + (m_/(v_+m_)) * c_\n",
    "\n",
    "        #Find col/row of zeros i.e. where needs to be filled with ratings\n",
    "        ro, co = np.where(tt == 0)\n",
    "        ro\n",
    "\n",
    "        #Creat copy for nearest neighbor fitting and fill with movie ratings calculated\n",
    "        t3_fit = tt.copy()\n",
    "        t3_fit[ro,co] = rating_train[co]\n",
    "\n",
    "        t_matrix[:,1+occus_n[1]:]= t3_fit\n",
    "\n",
    "        t_matrix[:,1:1+occus_n[1]] = occ_d\n",
    "\n",
    "        t_matrix[:,0]= g_b\n",
    "\n",
    "\n",
    "        n = NearestNeighbors(nhbrs, metric = 'canberra')\n",
    "        n.fit(t_matrix)\n",
    "        dist3, user3 = n.kneighbors()\n",
    "\n",
    "        denom3 = np.sum((1/dist3), axis=1)\n",
    "        w3 = (1/dist3)/denom3[:,None]\n",
    "\n",
    "        #Creat 3 dimensional Matrix with ratings and users/neighbours\n",
    "        three_d_3 = t_matrix[:,1+occus_n[1]:][user3]\n",
    "\n",
    "        #Using einsum multiply out users, ratings and weightings\n",
    "        #Whilts collapsing on weightings\n",
    "        reccomend3 = np.einsum('abc, ab -> ac', three_d_3, w3)\n",
    "\n",
    "        test = tests[i].pivot(*tests[i].columns[:-1])\n",
    "\n",
    "        #Save the respective movieids so that can reindex correctly later\n",
    "        re_index_test = test.columns\n",
    "\n",
    "        #Save userids so that can reindex later to correct user\n",
    "        test.index\n",
    "\n",
    "        #fill Nans with 0s\n",
    "        test_ = test.fillna(0)\n",
    "        test_ = test_.values\n",
    "\n",
    "        #Round reccomendations\n",
    "        recs_r = np.around(reccomend3, 1)\n",
    "\n",
    "        #Calculate errors\n",
    "        predictions = pd.DataFrame(reccomend3, np.arange(943) + 1, re_index)\n",
    "        p = []\n",
    "\n",
    "        for usr, itm, _, _ in tests[i].values:\n",
    "            try:\n",
    "                p.append(np.around(predictions.loc[usr, itm]))\n",
    "            except:\n",
    "                p.append(3)\n",
    "\n",
    "        MAE3 = np.mean(np.fabs(tests[i]['rating'] - p))\n",
    "        MAE3s.append(MAE3)\n",
    "        MAE_vec_g_oc[nhbrs-1]= np.mean(MAE3s)\n",
    "    print(nhbrs, np.mean(MAE3s), MAE3s)\n",
    "    "
   ]
  },
  {
   "cell_type": "code",
   "execution_count": 47,
   "metadata": {},
   "outputs": [
    {
     "data": {
      "text/plain": [
       "(36, 0.78154)"
      ]
     },
     "execution_count": 47,
     "metadata": {},
     "output_type": "execute_result"
    }
   ],
   "source": [
    "#Minimizing neighbours:\n",
    "Best_Neighbors_Score_g_oc = (np.argmin(MAE_vec_g_oc)+1,MAE_vec_g_oc[np.argmin(MAE_vec_g_oc)])\n",
    "Best_Neighbors_Score_g_oc"
   ]
  },
  {
   "cell_type": "code",
   "execution_count": 34,
   "metadata": {},
   "outputs": [
    {
     "name": "stdout",
     "output_type": "stream",
     "text": [
      "1 0.78553 [0.80125, 0.78485, 0.7797, 0.77865, 0.7832]\n",
      "2 0.78526 [0.80115, 0.78335, 0.7797, 0.7793, 0.7828]\n",
      "3 0.78359 [0.7989, 0.78295, 0.7776, 0.7785, 0.78]\n",
      "4 0.78311 [0.79845, 0.782, 0.7774, 0.77765, 0.78005]\n",
      "5 0.78266 [0.7976, 0.7817, 0.77675, 0.77645, 0.7808]\n",
      "6 0.7825099999999999 [0.79685, 0.78135, 0.7769, 0.77705, 0.7804]\n",
      "7 0.78203 [0.7957, 0.7814, 0.7765, 0.77675, 0.7798]\n",
      "8 0.7818200000000001 [0.79555, 0.7816, 0.7761, 0.77605, 0.7798]\n",
      "9 0.7812300000000001 [0.7949, 0.78105, 0.77535, 0.7761, 0.77875]\n"
     ]
    }
   ],
   "source": [
    "#Including gender and age \n",
    "MAE_vec_g_a = np.zeros((9))\n",
    "#This must be the length of the range/loop for neighbors\n",
    "#This loop would usually run from 1 to 100 however for time sake of examiner loop will only run to K=9.\n",
    "#Also must loop from 1 otherwise there will be indexing issues when adding MAE to numpy array\n",
    "for nhbrs in range(1,10):\n",
    "    MAE3s = []\n",
    "    for i in range(len(trains)):    \n",
    "        train_t3 = trains[i].pivot(*trains[i].columns[:-1])\n",
    "        tt = train_t3.fillna(0).values\n",
    "\n",
    "        re_index = train_t3.columns\n",
    "\n",
    "        width = tt.shape\n",
    "\n",
    "        t_matrix = np.zeros((943,2+width[1]))\n",
    "\n",
    "        #Calculate the average rating per movie\n",
    "        #sum the ratings\n",
    "        t3_sum_of_rat = np.sum(tt, axis=0)\n",
    "        #count of the ratings\n",
    "        t3_denominator = np.sum(tt > 0 ,axis=0)\n",
    "        #Avg rating per movie\n",
    "        t3_avg_rat = t3_sum_of_rat/t3_denominator\n",
    "\n",
    "        #Quartiles of the count of votes per movie\n",
    "        quartile_votes = np.percentile(t3_denominator, range(0, 100, 25), interpolation = 'midpoint')\n",
    "\n",
    "        #Implement bespoke formula for rating per movie\n",
    "        c_ = np.mean(tt[tt>0])\n",
    "        v_ = np.sum(tt > 0 ,axis=0)\n",
    "        m_ = quartile_votes[0]\n",
    "\n",
    "        rating_train =(v_/(v_+m_)) * t3_avg_rat + (m_/(v_+m_)) * c_\n",
    "\n",
    "        #Find col/row of zeros i.e. where needs to be filled with ratings\n",
    "        ro, co = np.where(tt == 0)\n",
    "        ro\n",
    "\n",
    "        #Creat copy for nearest neighbor fitting and fill with movie ratings calculated\n",
    "        t3_fit = tt.copy()\n",
    "        t3_fit[ro,co] = rating_train[co]\n",
    "\n",
    "        t_matrix[:,2:]= t3_fit\n",
    "\n",
    "        t_matrix[:,1] = age\n",
    "\n",
    "        t_matrix[:,0]= g_b\n",
    "\n",
    "\n",
    "        n = NearestNeighbors(nhbrs, metric = 'canberra')\n",
    "        n.fit(t_matrix)\n",
    "        dist3, user3 = n.kneighbors()\n",
    "\n",
    "        denom3 = np.sum((1/dist3), axis=1)\n",
    "        w3 = (1/dist3)/denom3[:,None]\n",
    "\n",
    "        #Creat 3 dimensional Matrix with ratings and users/neighbours\n",
    "        three_d_3 = t_matrix[:,2:][user3]\n",
    "\n",
    "        #Using einsum multiply out users, ratings and weightings\n",
    "        #Whilts collapsing on weightings\n",
    "        reccomend3 = np.einsum('abc, ab -> ac', three_d_3, w3)\n",
    "\n",
    "        test = tests[i].pivot(*tests[i].columns[:-1])\n",
    "\n",
    "        #Save the respective movieids so that can reindex correctly later\n",
    "        re_index_test = test.columns\n",
    "\n",
    "        #Save userids so that can reindex later to correct user\n",
    "        test.index\n",
    "\n",
    "        #fill Nans with 0s\n",
    "        test_ = test.fillna(0)\n",
    "        test_ = test_.values\n",
    "\n",
    "        #Round reccomendations\n",
    "        recs_r = np.around(reccomend3, 1)\n",
    "\n",
    "        #Calculate errors\n",
    "        predictions = pd.DataFrame(reccomend3, np.arange(943) + 1, re_index)\n",
    "        p = []\n",
    "\n",
    "        for usr, itm, _, _ in tests[i].values:\n",
    "            try:\n",
    "                p.append(np.around(predictions.loc[usr, itm]))\n",
    "            except:\n",
    "                p.append(3)\n",
    "\n",
    "        MAE3 = np.mean(np.fabs(tests[i]['rating'] - p))\n",
    "        MAE3s.append(MAE3)\n",
    "        MAE_vec_g_a[nhbrs-1]= np.mean(MAE3s)\n",
    "    print(nhbrs, np.mean(MAE3s), MAE3s)\n",
    "    "
   ]
  },
  {
   "cell_type": "code",
   "execution_count": 54,
   "metadata": {},
   "outputs": [
    {
     "data": {
      "text/plain": [
       "(9, 0.7812300000000001)"
      ]
     },
     "execution_count": 54,
     "metadata": {},
     "output_type": "execute_result"
    }
   ],
   "source": [
    "Best_Neighbors_Score_g_a = (np.argmin(MAE_vec_g_a)+1,MAE_vec_g_a[np.argmin(MAE_vec_g_a)])\n",
    "Best_Neighbors_Score_g_a"
   ]
  },
  {
   "cell_type": "code",
   "execution_count": 35,
   "metadata": {},
   "outputs": [
    {
     "name": "stdout",
     "output_type": "stream",
     "text": [
      "1 0.7871400000000002 [0.8004, 0.78725, 0.78075, 0.78195, 0.78535]\n",
      "2 0.78586 [0.7995, 0.78465, 0.779, 0.78015, 0.786]\n",
      "3 0.78392 [0.7987, 0.78255, 0.7777, 0.778, 0.78265]\n",
      "4 0.7834700000000001 [0.7979, 0.7828, 0.77655, 0.7783, 0.7818]\n",
      "5 0.7836000000000001 [0.79755, 0.78325, 0.77635, 0.77885, 0.782]\n",
      "6 0.78267 [0.79665, 0.7811, 0.77655, 0.77725, 0.7818]\n",
      "7 0.78248 [0.79615, 0.7811, 0.77645, 0.77765, 0.78105]\n",
      "8 0.7824000000000001 [0.7968, 0.781, 0.77545, 0.77775, 0.781]\n",
      "9 0.78217 [0.7964, 0.7811, 0.77585, 0.7774, 0.7801]\n"
     ]
    }
   ],
   "source": [
    "#Including occ and age \n",
    "MAE_vec_oc_a = np.zeros((9))#This must be the length of the range/loop for neighbors\n",
    "#This loop would usually run from 1 to 100 however for time sake of examiner loop will only run to K=9.\n",
    "#Also must loop from 1 otherwise there will be indexing issues when adding MAE to numpy array\n",
    "for nhbrs in range(1,10):\n",
    "    MAE3s = []\n",
    "    for i in range(len(trains)):    \n",
    "        train_t3 = trains[i].pivot(*trains[i].columns[:-1])\n",
    "        tt = train_t3.fillna(0).values\n",
    "\n",
    "        re_index = train_t3.columns\n",
    "\n",
    "        width = tt.shape\n",
    "\n",
    "        t_matrix = np.zeros((943,1+occus_n[1]+width[1]))\n",
    "\n",
    "\n",
    "        #Calculate the average rating per movie\n",
    "        #sum the ratings\n",
    "        t3_sum_of_rat = np.sum(tt, axis=0)\n",
    "        #count of the ratings\n",
    "        t3_denominator = np.sum(tt > 0 ,axis=0)\n",
    "        #Avg rating per movie\n",
    "        t3_avg_rat = t3_sum_of_rat/t3_denominator\n",
    "\n",
    "        #Quartiles of the count of votes per movie\n",
    "        quartile_votes = np.percentile(t3_denominator, range(0, 100, 25), interpolation = 'midpoint')\n",
    "\n",
    "        #Implement bespoke formula for rating per movie\n",
    "        c_ = np.mean(tt[tt>0])\n",
    "        v_ = np.sum(tt > 0 ,axis=0)\n",
    "        m_ = quartile_votes[0]\n",
    "\n",
    "        rating_train =(v_/(v_+m_)) * t3_avg_rat + (m_/(v_+m_)) * c_\n",
    "\n",
    "        #Find col/row of zeros i.e. where needs to be filled with ratings\n",
    "        ro, co = np.where(tt == 0)\n",
    "        ro\n",
    "\n",
    "        #Creat copy for nearest neighbor fitting and fill with movie ratings calculated\n",
    "        t3_fit = tt.copy()\n",
    "        t3_fit[ro,co] = rating_train[co]\n",
    "\n",
    "        t_matrix[:,1+occus_n[1]:]= t3_fit\n",
    "\n",
    "        t_matrix[:,1:1+occus_n[1]] = occ_d\n",
    "\n",
    "        t_matrix[:,0]= age\n",
    "\n",
    "\n",
    "        n = NearestNeighbors(nhbrs, metric = 'canberra')\n",
    "        n.fit(t_matrix)\n",
    "        dist3, user3 = n.kneighbors()\n",
    "\n",
    "        denom3 = np.sum((1/dist3), axis=1)\n",
    "        w3 = (1/dist3)/denom3[:,None]\n",
    "\n",
    "        #Creat 3 dimensional Matrix with ratings and users/neighbours\n",
    "        three_d_3 = t_matrix[:,1+occus_n[1]:][user3]\n",
    "\n",
    "        #Using einsum multiply out users, ratings and weightings\n",
    "        #Whilts collapsing on weightings\n",
    "        reccomend3 = np.einsum('abc, ab -> ac', three_d_3, w3)\n",
    "\n",
    "        test = tests[i].pivot(*tests[i].columns[:-1])\n",
    "\n",
    "        #Save the respective movieids so that can reindex correctly later\n",
    "        re_index_test = test.columns\n",
    "\n",
    "        #Save userids so that can reindex later to correct user\n",
    "        test.index\n",
    "\n",
    "        #fill Nans with 0s\n",
    "        test_ = test.fillna(0)\n",
    "        test_ = test_.values\n",
    "\n",
    "        #Round reccomendations\n",
    "        recs_r = np.around(reccomend3, 1)\n",
    "\n",
    "        #Calculate errors\n",
    "        predictions = pd.DataFrame(reccomend3, np.arange(943) + 1, re_index)\n",
    "        p = []\n",
    "\n",
    "        for usr, itm, _, _ in tests[i].values:\n",
    "            try:\n",
    "                p.append(np.around(predictions.loc[usr, itm]))\n",
    "            except:\n",
    "                p.append(3)\n",
    "\n",
    "        MAE3 = np.mean(np.fabs(tests[i]['rating'] - p))\n",
    "        MAE3s.append(MAE3)\n",
    "        MAE_vec_oc_a[nhbrs-1]= np.mean(MAE3s)\n",
    "    print(nhbrs, np.mean(MAE3s), MAE3s)\n",
    "    "
   ]
  },
  {
   "cell_type": "code",
   "execution_count": null,
   "metadata": {},
   "outputs": [],
   "source": [
    "Best_Neighbors_Score_oc_a = (np.argmin(MAE_vec_oc_a)+1,MAE_vec_oc_a[np.argmin(MAE_vec_oc_a)])\n",
    "Best_Neighbors_Score_oc_a"
   ]
  },
  {
   "cell_type": "code",
   "execution_count": 36,
   "metadata": {},
   "outputs": [
    {
     "name": "stdout",
     "output_type": "stream",
     "text": [
      "1 0.78734 [0.8017, 0.7873, 0.7803, 0.78225, 0.78515]\n",
      "2 0.78603 [0.80005, 0.7856, 0.7786, 0.78, 0.7859]\n",
      "3 0.7844099999999999 [0.79945, 0.7837, 0.77815, 0.77805, 0.7827]\n",
      "4 0.7839299999999999 [0.79825, 0.78295, 0.77755, 0.7783, 0.7826]\n",
      "5 0.78354 [0.79765, 0.78255, 0.77665, 0.7786, 0.78225]\n",
      "6 0.78277 [0.7975, 0.7809, 0.77665, 0.77815, 0.78065]\n",
      "7 0.78267 [0.79735, 0.7807, 0.77635, 0.7773, 0.78165]\n",
      "8 0.7824199999999999 [0.79785, 0.78085, 0.7751, 0.77735, 0.78095]\n",
      "9 0.78261 [0.7974, 0.78235, 0.7752, 0.7773, 0.7808]\n"
     ]
    }
   ],
   "source": [
    "#Including occupation dummy\n",
    "MAE_vec_oc = np.zeros((9))#This must be the length of the range/loop for neighbors\n",
    "#This loop would usually run from 1 to 100 however for time sake of examiner loop will only run to K=9.\n",
    "#Also must loop from 1 otherwise there will be indexing issues when adding MAE to numpy array\n",
    "for nhbrs in range(1,10):\n",
    "    MAE3s = []\n",
    "    for i in range(len(trains)):    \n",
    "        train_t3 = trains[i].pivot(*trains[i].columns[:-1])\n",
    "        tt = train_t3.fillna(0).values\n",
    "\n",
    "        re_index = train_t3.columns\n",
    "\n",
    "        width = tt.shape\n",
    "\n",
    "        t_matrix = np.zeros((943,occus_n[1]+width[1]))\n",
    "\n",
    "        #Calculate the average rating per movie\n",
    "        #sum the ratings\n",
    "        t3_sum_of_rat = np.sum(tt, axis=0)\n",
    "        #count of the ratings\n",
    "        t3_denominator = np.sum(tt > 0 ,axis=0)\n",
    "        #Avg rating per movie\n",
    "        t3_avg_rat = t3_sum_of_rat/t3_denominator\n",
    "\n",
    "        #Quartiles of the count of votes per movie\n",
    "        quartile_votes = np.percentile(t3_denominator, range(0, 100, 25), interpolation = 'midpoint')\n",
    "\n",
    "        #Implement bespoke formula for rating per movie\n",
    "        c_ = np.mean(tt[tt>0])\n",
    "        v_ = np.sum(tt > 0 ,axis=0)\n",
    "        m_ = quartile_votes[0]\n",
    "\n",
    "        rating_train =(v_/(v_+m_)) * t3_avg_rat + (m_/(v_+m_)) * c_\n",
    "\n",
    "        #Find col/row of zeros i.e. where needs to be filled with ratings\n",
    "        ro, co = np.where(tt == 0)\n",
    "        ro\n",
    "\n",
    "        #Creat copy for nearest neighbor fitting and fill with movie ratings calculated\n",
    "        t3_fit = tt.copy()\n",
    "        t3_fit[ro,co] = rating_train[co]\n",
    "\n",
    "        t_matrix[:,occus_n[1]:]= t3_fit\n",
    "\n",
    "        t_matrix[:,:occus_n[1]] = occ_d\n",
    "\n",
    " \n",
    "\n",
    "\n",
    "        n = NearestNeighbors(nhbrs, metric = 'canberra')\n",
    "        n.fit(t_matrix)\n",
    "        dist3, user3 = n.kneighbors()\n",
    "\n",
    "        denom3 = np.sum((1/dist3), axis=1)\n",
    "        w3 = (1/dist3)/denom3[:,None]\n",
    "\n",
    "        #Creat 3 dimensional Matrix with ratings and users/neighbours\n",
    "        three_d_3 = t_matrix[:,occus_n[1]:][user3]\n",
    "\n",
    "        #Using einsum multiply out users, ratings and weightings\n",
    "        #Whilts collapsing on weightings\n",
    "        reccomend3 = np.einsum('abc, ab -> ac', three_d_3, w3)\n",
    "\n",
    "        test = tests[i].pivot(*tests[i].columns[:-1])\n",
    "\n",
    "        #Save the respective movieids so that can reindex correctly later\n",
    "        re_index_test = test.columns\n",
    "\n",
    "        #Save userids so that can reindex later to correct user\n",
    "        test.index\n",
    "\n",
    "        #fill Nans with 0s\n",
    "        test_ = test.fillna(0)\n",
    "        test_ = test_.values\n",
    "\n",
    "        #Round reccomendations\n",
    "        recs_r = np.around(reccomend3, 1)\n",
    "\n",
    "        #Calculate errors\n",
    "        predictions = pd.DataFrame(reccomend3, np.arange(943) + 1, re_index)\n",
    "        p = []\n",
    "\n",
    "        for usr, itm, _, _ in tests[i].values:\n",
    "            try:\n",
    "                p.append(np.around(predictions.loc[usr, itm]))\n",
    "            except:\n",
    "                p.append(3)\n",
    "\n",
    "        MAE3 = np.mean(np.fabs(tests[i]['rating'] - p))\n",
    "        MAE3s.append(MAE3)\n",
    "        MAE_vec_oc[nhbrs-1]= np.mean(MAE3s)\n",
    "    print(nhbrs, np.mean(MAE3s), MAE3s)\n",
    "    "
   ]
  },
  {
   "cell_type": "code",
   "execution_count": 48,
   "metadata": {},
   "outputs": [
    {
     "data": {
      "text/plain": [
       "(23, 0.78176)"
      ]
     },
     "execution_count": 48,
     "metadata": {},
     "output_type": "execute_result"
    }
   ],
   "source": [
    "#Minimizing neighbours:\n",
    "Best_Neighbors_Score_oc = (np.argmin(MAE_vec_oc)+1,MAE_vec_oc[np.argmin(MAE_vec_oc)])\n",
    "Best_Neighbors_Score_oc"
   ]
  },
  {
   "cell_type": "code",
   "execution_count": 37,
   "metadata": {},
   "outputs": [
    {
     "name": "stdout",
     "output_type": "stream",
     "text": [
      "1 0.7851799999999999 [0.79985, 0.785, 0.77965, 0.77815, 0.78325]\n",
      "2 0.78454 [0.8002, 0.7837, 0.7797, 0.7772, 0.7819]\n",
      "3 0.78316 [0.7987, 0.78185, 0.7775, 0.77815, 0.7796]\n",
      "4 0.7826 [0.7986, 0.78165, 0.7771, 0.77655, 0.7791]\n",
      "5 0.7820300000000001 [0.79735, 0.7811, 0.77705, 0.7758, 0.77885]\n",
      "6 0.7814499999999999 [0.79735, 0.77965, 0.7763, 0.77565, 0.7783]\n",
      "7 0.78122 [0.79645, 0.77955, 0.776, 0.7759, 0.7782]\n",
      "8 0.7813800000000001 [0.79575, 0.779, 0.7766, 0.77705, 0.7785]\n",
      "9 0.7813000000000001 [0.79555, 0.77985, 0.77575, 0.7772, 0.77815]\n"
     ]
    }
   ],
   "source": [
    "#Including age feature\n",
    "MAE_vec_age = np.zeros((9))#This must be the length of the range/loop for neighbors\n",
    "#This loop would usually run from 1 to 100 however for time sake of examiner loop will only run to K=9.\n",
    "#Also must loop from 1 otherwise there will be indexing issues when adding MAE to numpy array\n",
    "for nhbrs in range(1,10):\n",
    "    MAE3s = []\n",
    "    for i in range(len(trains)):    \n",
    "        train_t3 = trains[i].pivot(*trains[i].columns[:-1])\n",
    "        tt = train_t3.fillna(0).values\n",
    "\n",
    "        re_index = train_t3.columns\n",
    "\n",
    "        width = tt.shape\n",
    "\n",
    "        t_matrix = np.zeros((943,1+width[1]))\n",
    "\n",
    "        #Calculate the average rating per movie\n",
    "        #sum the ratings\n",
    "        t3_sum_of_rat = np.sum(tt, axis=0)\n",
    "        #count of the ratings\n",
    "        t3_denominator = np.sum(tt > 0 ,axis=0)\n",
    "        #Avg rating per movie\n",
    "        t3_avg_rat = t3_sum_of_rat/t3_denominator\n",
    "\n",
    "        #Quartiles of the count of votes per movie\n",
    "        quartile_votes = np.percentile(t3_denominator, range(0, 100, 25), interpolation = 'midpoint')\n",
    "\n",
    "        #Implement bespoke formula for rating per movie\n",
    "        c_ = np.mean(tt[tt>0])\n",
    "        v_ = np.sum(tt > 0 ,axis=0)\n",
    "        m_ = quartile_votes[0]\n",
    "\n",
    "        rating_train =(v_/(v_+m_)) * t3_avg_rat + (m_/(v_+m_)) * c_\n",
    "\n",
    "        #Find col/row of zeros i.e. where needs to be filled with ratings\n",
    "        ro, co = np.where(tt == 0)\n",
    "        ro\n",
    "\n",
    "        #Creat copy for nearest neighbor fitting and fill with movie ratings calculated\n",
    "        t3_fit = tt.copy()\n",
    "        t3_fit[ro,co] = rating_train[co]\n",
    "\n",
    "        t_matrix[:,1:]= t3_fit\n",
    "\n",
    "        t_matrix[:,0]= age\n",
    "\n",
    "\n",
    "        n = NearestNeighbors(nhbrs, metric = 'canberra')\n",
    "        n.fit(t_matrix)\n",
    "        dist3, user3 = n.kneighbors()\n",
    "\n",
    "        denom3 = np.sum((1/dist3), axis=1)\n",
    "        w3 = (1/dist3)/denom3[:,None]\n",
    "\n",
    "        #Creat 3 dimensional Matrix with ratings and users/neighbours\n",
    "        three_d_3 = t_matrix[:,1:][user3]\n",
    "\n",
    "        #Using einsum multiply out users, ratings and weightings\n",
    "        #Whilts collapsing on weightings\n",
    "        reccomend3 = np.einsum('abc, ab -> ac', three_d_3, w3)\n",
    "\n",
    "        test = tests[i].pivot(*tests[i].columns[:-1])\n",
    "\n",
    "        #Save the respective movieids so that can reindex correctly later\n",
    "        re_index_test = test.columns\n",
    "\n",
    "        #Save userids so that can reindex later to correct user\n",
    "        test.index\n",
    "\n",
    "        #fill Nans with 0s\n",
    "        test_ = test.fillna(0)\n",
    "        test_ = test_.values\n",
    "\n",
    "        #Round reccomendations\n",
    "        recs_r = np.around(reccomend3, 1)\n",
    "\n",
    "        #Calculate errors\n",
    "        predictions = pd.DataFrame(reccomend3, np.arange(943) + 1, re_index)\n",
    "        p = []\n",
    "\n",
    "        for usr, itm, _, _ in tests[i].values:\n",
    "            try:\n",
    "                p.append(np.around(predictions.loc[usr, itm]))\n",
    "            except:\n",
    "                p.append(3)\n",
    "\n",
    "        MAE3 = np.mean(np.fabs(tests[i]['rating'] - p))\n",
    "        MAE3s.append(MAE3)\n",
    "        MAE_vec_age[nhbrs-1]= np.mean(MAE3s)\n",
    "    print(nhbrs, np.mean(MAE3s), MAE3s)"
   ]
  },
  {
   "cell_type": "code",
   "execution_count": 61,
   "metadata": {},
   "outputs": [
    {
     "data": {
      "text/plain": [
       "(7, 0.78122)"
      ]
     },
     "execution_count": 61,
     "metadata": {},
     "output_type": "execute_result"
    }
   ],
   "source": [
    "Best_Neighbors_Score_age = (np.argmin(MAE_vec_age)+1,MAE_vec_age[np.argmin(MAE_vec_age)])\n",
    "Best_Neighbors_Score_age"
   ]
  },
  {
   "cell_type": "code",
   "execution_count": 38,
   "metadata": {},
   "outputs": [
    {
     "name": "stdout",
     "output_type": "stream",
     "text": [
      "1 0.78722 [0.801, 0.7869, 0.7805, 0.78105, 0.78665]\n",
      "2 0.78556 [0.7994, 0.7844, 0.7787, 0.77925, 0.78605]\n",
      "3 0.78406 [0.7976, 0.78345, 0.77855, 0.77925, 0.78145]\n",
      "4 0.78355 [0.79715, 0.7829, 0.77775, 0.77905, 0.7809]\n",
      "5 0.78328 [0.7967, 0.7833, 0.77635, 0.77875, 0.7813]\n",
      "6 0.78272 [0.79565, 0.7822, 0.7768, 0.778, 0.78095]\n",
      "7 0.78265 [0.79575, 0.7826, 0.77615, 0.77755, 0.7812]\n",
      "8 0.7824199999999999 [0.7959, 0.781, 0.77525, 0.77845, 0.7815]\n",
      "9 0.7823 [0.7959, 0.7812, 0.7753, 0.77785, 0.78125]\n"
     ]
    }
   ],
   "source": [
    "#Including gender and occupation dummy + age\n",
    "MAE_vec_g_oc_age = np.zeros((9))#This must be the length of the range/loop for neighbors\n",
    "#This loop would usually run from 1 to 100 however for time sake of examiner loop will only run to K=9.\n",
    "#Also must loop from 1 otherwise there will be indexing issues when adding MAE to numpy array\n",
    "for nhbrs in range(1,10):\n",
    "    MAE3s = []\n",
    "    for i in range(len(trains)):    \n",
    "        train_t3 = trains[i].pivot(*trains[i].columns[:-1])\n",
    "        tt = train_t3.fillna(0).values\n",
    "\n",
    "        re_index = train_t3.columns\n",
    "\n",
    "        width = tt.shape\n",
    "\n",
    "        t_matrix = np.zeros((943,1+1+occus_n[1]+width[1]))\n",
    "\n",
    "        #Calculate the average rating per movie\n",
    "        #sum the ratings\n",
    "        t3_sum_of_rat = np.sum(tt, axis=0)\n",
    "        #count of the ratings\n",
    "        t3_denominator = np.sum(tt > 0 ,axis=0)\n",
    "        #Avg rating per movie\n",
    "        t3_avg_rat = t3_sum_of_rat/t3_denominator\n",
    "\n",
    "        #Quartiles of the count of votes per movie\n",
    "        quartile_votes = np.percentile(t3_denominator, range(0, 100, 25), interpolation = 'midpoint')\n",
    "\n",
    "        #Implement bespoke formula for rating per movie\n",
    "        c_ = np.mean(tt[tt>0])\n",
    "        v_ = np.sum(tt > 0 ,axis=0)\n",
    "        m_ = quartile_votes[0]\n",
    "\n",
    "        rating_train =(v_/(v_+m_)) * t3_avg_rat + (m_/(v_+m_)) * c_\n",
    "\n",
    "        #Find col/row of zeros i.e. where needs to be filled with ratings\n",
    "        ro, co = np.where(tt == 0)\n",
    "        ro\n",
    "\n",
    "        #Creat copy for nearest neighbor fitting and fill with movie ratings calculated\n",
    "        t3_fit = tt.copy()\n",
    "        t3_fit[ro,co] = rating_train[co]\n",
    "\n",
    "        t_matrix[:,2+occus_n[1]:]= t3_fit\n",
    "\n",
    "        t_matrix[:,2:2+occus_n[1]] = occ_d\n",
    "\n",
    "        t_matrix[:,0]= g_b\n",
    "        \n",
    "        t_matrix[:,1]= age\n",
    "\n",
    "\n",
    "        n = NearestNeighbors(nhbrs, metric = 'canberra')\n",
    "        n.fit(t_matrix)\n",
    "        dist3, user3 = n.kneighbors()\n",
    "\n",
    "        denom3 = np.sum((1/dist3), axis=1)\n",
    "        w3 = (1/dist3)/denom3[:,None]\n",
    "\n",
    "        #Creat 3 dimensional Matrix with ratings and users/neighbours\n",
    "        three_d_3 = t_matrix[:,2+occus_n[1]:][user3]\n",
    "\n",
    "        #Using einsum multiply out users, ratings and weightings\n",
    "        #Whilts collapsing on weightings\n",
    "        reccomend3 = np.einsum('abc, ab -> ac', three_d_3, w3)\n",
    "\n",
    "        test = tests[i].pivot(*tests[i].columns[:-1])\n",
    "\n",
    "        #Save the respective movieids so that can reindex correctly later\n",
    "        re_index_test = test.columns\n",
    "\n",
    "        #Save userids so that can reindex later to correct user\n",
    "        test.index\n",
    "\n",
    "        #fill Nans with 0s\n",
    "        test_ = test.fillna(0)\n",
    "        test_ = test_.values\n",
    "\n",
    "        #Round reccomendations\n",
    "        recs_r = np.around(reccomend3, 1)\n",
    "\n",
    "        #Calculate errors\n",
    "        predictions = pd.DataFrame(reccomend3, np.arange(943) + 1, re_index)\n",
    "        p = []\n",
    "\n",
    "        for usr, itm, _, _ in tests[i].values:\n",
    "            try:\n",
    "                p.append(np.around(predictions.loc[usr, itm]))\n",
    "            except:\n",
    "                p.append(3)\n",
    "\n",
    "        MAE3 = np.mean(np.fabs(tests[i]['rating'] - p))\n",
    "        MAE3s.append(MAE3)\n",
    "        MAE_vec_g_oc_age[nhbrs-1]= np.mean(MAE3s)\n",
    "    print(nhbrs, np.mean(MAE3s), MAE3s)\n",
    "    "
   ]
  },
  {
   "cell_type": "code",
   "execution_count": 50,
   "metadata": {},
   "outputs": [
    {
     "data": {
      "text/plain": [
       "(38, 0.7815000000000001)"
      ]
     },
     "execution_count": 50,
     "metadata": {},
     "output_type": "execute_result"
    }
   ],
   "source": [
    "Best_Neighbors_Score_goage = (np.argmin(MAE_vec_g_oc_age)+1,MAE_vec_g_oc_age[np.argmin(MAE_vec_g_oc_age)])\n",
    "Best_Neighbors_Score_goage"
   ]
  },
  {
   "cell_type": "code",
   "execution_count": 65,
   "metadata": {},
   "outputs": [
    {
     "data": {
      "image/png": "[encoded data removed]",
      "text/plain": [
       "<Figure size 864x432 with 1 Axes>"
      ]
     },
     "metadata": {
      "needs_background": "light"
     },
     "output_type": "display_data"
    }
   ],
   "source": [
    "plt.figure(figsize=(12,6))\n",
    "plt.plot(K_forplot, E_forplot, label=\"No Features\")\n",
    "plt.plot(K_forplot, list(MAE_vec_g), label=\"Incl. Gender\")\n",
    "plt.plot(K_forplot, list(MAE_vec_age), label=\"Incl. Age\")\n",
    "plt.plot(K_forplot, list(MAE_vec_oc), label=\"Incl. Occup.\")\n",
    "plt.plot(K_forplot, list(MAE_vec_g_oc), label=\"Incl. Gend_Occ\")\n",
    "plt.plot(K_forplot, list(MAE_vec_g_a), label=\"Incl. Gend_Age\")\n",
    "plt.plot(K_forplot, list(MAE_vec_oc_a), label=\"Incl. Occ_Age\")\n",
    "plt.plot(K_forplot, list(MAE_vec_g_oc_age), label = \"Incl. Gend_Occ_Age\")\n",
    "# Place a legend to the right of this smaller subplot.\n",
    "plt.legend( loc='upper right')\n",
    "plt.xlim(0,100)\n",
    "plt.title('MAE 5 fold Cross Validation - with additional features')\n",
    "plt.ylabel('MAE')\n",
    "plt.xlabel('Neighbours')\n",
    "\n",
    "\n",
    "#plt.savefig('MAE_Cross_Validation_with_add_features.png', transparent=False)"
   ]
  },
  {
   "cell_type": "markdown",
   "metadata": {},
   "source": [
    "## Actual Recommendations"
   ]
  },
  {
   "cell_type": "code",
   "execution_count": 39,
   "metadata": {},
   "outputs": [],
   "source": [
    "train = trains[0].pivot(*trains[0].columns[:-1])\n",
    "#Save the respective movieids so that can reindex correctly later\n",
    "re_index = train.columns\n",
    "\n",
    "#Fill the Nans with zeros to then be filled with averages\n",
    "train_ = train.fillna(0)\n",
    "train_ = train_.values\n",
    "\n",
    "#Calculate the average rating per movie\n",
    "#sum the ratings\n",
    "train_sum_of_rat = np.sum(train_, axis=0)\n",
    "#count of the ratings\n",
    "train_denominator = np.sum(train_ > 0 ,axis=0)\n",
    "#Avg rating per movie\n",
    "train_avg_rat = train_sum_of_rat/train_denominator\n",
    "\n",
    "#Quartiles of the count of votes per movie\n",
    "quartile_votes = np.percentile(train_denominator, range(0, 100, 25), interpolation = 'midpoint')\n",
    "\n",
    "#Implement bespoke formula for rating per movie\n",
    "c_ = np.mean(train_[train_>0])\n",
    "v_ = np.sum(train_ > 0 ,axis=0)\n",
    "m_ = quartile_votes[2]\n",
    "\n",
    "rating_train =(v_/(v_+m_)) * train_avg_rat + (m_/(v_+m_)) * c_\n",
    "\n",
    "#Find col/row of zeros i.e. where needs to be filled with ratings\n",
    "t_row, t_col = np.where(train_ == 0)\n",
    "t_row\n",
    "\n",
    "#Creat copy for nearest neighbor fitting and fill with movie ratings calculated\n",
    "train_fit = train_.copy()\n",
    "train_fit[t_row,t_col] = rating_train[t_col]\n",
    "\n",
    "#Fit training data\n",
    "n = NearestNeighbors(neighbors, metric = 'cosine')\n",
    "n.fit(train_fit)\n",
    "\n",
    "#split into distance and user/neighbour matrix \n",
    "dist, user = n.kneighbors()\n",
    "\n",
    "\n",
    "#calculate weightings\n",
    "denom = np.sum((1/dist), axis=1)\n",
    "weighting = (1/dist)/denom[:,None]\n",
    "if (dist==0).any():\n",
    "    print('error')\n",
    "\n",
    "#Creat 3 dimensional Matrix with ratings and users/neighbours\n",
    "three_d = train_fit[user]\n",
    "\n",
    "#Using einsum multiply out users, ratings and weightings\n",
    "#Whilts collapsing on weightings\n",
    "reccomendations = np.einsum('ukr, uk -> ur', three_d, weighting)"
   ]
  },
  {
   "cell_type": "code",
   "execution_count": 40,
   "metadata": {},
   "outputs": [],
   "source": [
    "final_recs = np.argsort(reccomendations[0], axis=-1)[::-1][train_[0] == 0]\n",
    "recos = re_index[final_recs]\n",
    "t_five = []\n",
    "for i in recos[:5]:\n",
    "    mov = u_item[u_item['movie id']==(i)].values.astype(str)\n",
    "    t_five.append(mov[0][1])"
   ]
  },
  {
   "cell_type": "code",
   "execution_count": 41,
   "metadata": {},
   "outputs": [
    {
     "data": {
      "text/plain": [
       "['Shawshank Redemption, The (1994)',\n",
       " \"One Flew Over the Cuckoo's Nest (1975)\",\n",
       " 'Godfather, The (1972)',\n",
       " 'To Kill a Mockingbird (1962)',\n",
       " '12 Angry Men (1957)']"
      ]
     },
     "execution_count": 41,
     "metadata": {},
     "output_type": "execute_result"
    }
   ],
   "source": [
    "t_five"
   ]
  },
  {
   "attachments": {},
   "cell_type": "markdown",
   "metadata": {},
   "source": [
    "### Sources:\n",
    "Chomboon, K., Pasapichi, C., Pongsakorn, T., Kerdprasop, K., Kerdprasop, N. (2015), An empirical study of distance metrics for k-nearest neighbor algorithm, In The 3rd International Conference on Industrial Application Engineering 2015.\n",
    "\n",
    "IMDB Help Centre, (2019), How do you calculate the rank of movies and TV shows on the Top Rated Movies and Top Rated TV Show lists?,[Online]. Available from: https://help.imdb.com/article/imdb/track-movies-tv/ratings-faq/G67Y87TFYYP6TWAV# [Accessed: 01/12/2019].\n",
    "\n",
    "scikit-learn.org, (2019), sklearn.neighbors.DistanceMetric,[Online]. Available from: https://scikit-learn.org/stable/modules/generated/sklearn.neighbors.DistanceMetric.html?fbclid=IwAR1ici7dQzEhsu2qK-zv-RXAigY2zGm51678j0Mv477EbL0bstbORy7bkCw [Accessed: 07/12/2019].\n",
    "\n",
    "Surya, V. B., Alfeilat, H. A. A., Hassanat, A. B. A., Lasassmeh, O., Tarawneh, A. S., Alhasanat, M. B., Salmane, H. S. E., (2019). Effects of Distance Measure Choice on KNN Classifier Performance - A Review, Big Data 10.1089/big.2018.0175."
   ]
  }
 ],
 "metadata": {
  "kernelspec": {
   "display_name": "Python 3",
   "language": "python",
   "name": "python3"
  },
  "language_info": {
   "codemirror_mode": {
    "name": "ipython",
    "version": 3
   },
   "file_extension": ".py",
   "mimetype": "text/x-python",
   "name": "python",
   "nbconvert_exporter": "python",
   "pygments_lexer": "ipython3",
   "version": "3.8.2"
  }
 },
 "nbformat": 4,
 "nbformat_minor": 2
}
